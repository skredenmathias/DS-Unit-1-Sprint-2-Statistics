{
  "nbformat": 4,
  "nbformat_minor": 0,
  "metadata": {
    "colab": {
      "name": "module3/LS_DS_123_Introduction_to_Bayesian_Inference_Assignment.ipynb",
      "provenance": [],
      "collapsed_sections": [],
      "include_colab_link": true
    },
    "kernelspec": {
      "name": "python3",
      "display_name": "Python 3"
    }
  },
  "cells": [
    {
      "cell_type": "markdown",
      "metadata": {
        "id": "view-in-github",
        "colab_type": "text"
      },
      "source": [
        "<a href=\"https://colab.research.google.com/github/skredenmathias/DS-Unit-1-Sprint-2-Statistics/blob/master/module3_LS_DS_123_Introduction_to_Bayesian_Inference_Assignment.ipynb\" target=\"_parent\"><img src=\"https://colab.research.google.com/assets/colab-badge.svg\" alt=\"Open In Colab\"/></a>"
      ]
    },
    {
      "cell_type": "markdown",
      "metadata": {
        "id": "H7OLbevlbd_Z",
        "colab_type": "text"
      },
      "source": [
        "# Lambda School Data Science Module 123\n",
        "\n",
        "## Introduction to Bayesian Inference\n",
        "\n",
        "\n"
      ]
    },
    {
      "cell_type": "code",
      "metadata": {
        "id": "5Vy8YuTm_Bqj",
        "colab_type": "code",
        "colab": {}
      },
      "source": [
        "# p_user = 1/1000\n",
        "# p_non_user = 1 - p_user\n",
        "# P_pos_given_user = 1\n",
        "# P_pos_given_non_user = .08\n",
        "\n",
        "# posterior_probability = (P_pos_given_user * p_user)/((P_pos_given_user*p_user) + (P_pos_given_non_user * p_non_user))\n",
        "# posterior_probability # 1 test"
      ],
      "execution_count": 0,
      "outputs": []
    },
    {
      "cell_type": "code",
      "metadata": {
        "id": "QE5LtV6v_qL-",
        "colab_type": "code",
        "colab": {}
      },
      "source": [
        "# # 2 test\n",
        "# p_user = posterior_probability\n",
        "# p_non_user = 1 - p_user\n",
        "# posterior_probability = (P_pos_given_user * p_user)/((P_pos_given_user*p_user) + (P_pos_given_non_user * p_non_user))\n",
        "# posterior_probability"
      ],
      "execution_count": 0,
      "outputs": []
    },
    {
      "cell_type": "code",
      "metadata": {
        "id": "_gVqks4tE5bk",
        "colab_type": "code",
        "outputId": "b8629c8a-2067-4683-ad7a-50eb622187b9",
        "colab": {
          "base_uri": "https://localhost:8080/",
          "height": 34
        }
      },
      "source": [
        "prob_drunk_prior = 1/1000\n",
        "def prob_drunk_given_positive(prob_drunk_prior, false_positive_rate):\n",
        "  false_positive_rate = 0.08\n",
        "  p_non_user = 1 - prob_drunk_prior\n",
        "  P_pos_given_user = 1\n",
        "  # posterior_probability = (P_pos_given_user * prob_drunk_prior)/((P_pos_given_user*prob_drunk_prior) + (false_positive_rate * p_non_user))\n",
        "  return (P_pos_given_user * prob_drunk_prior)/((P_pos_given_user*prob_drunk_prior) + (false_positive_rate * p_non_user))\n",
        "prob_drunk_given_positive(0.001, 0.08)"
      ],
      "execution_count": 0,
      "outputs": [
        {
          "output_type": "execute_result",
          "data": {
            "text/plain": [
              "0.012357884330202669"
            ]
          },
          "metadata": {
            "tags": []
          },
          "execution_count": 8
        }
      ]
    },
    {
      "cell_type": "code",
      "metadata": {
        "id": "WKYIP5zIYuQx",
        "colab_type": "code",
        "colab": {}
      },
      "source": [
        "# def prob_drunk_given_positive(prob_drunk_prior, false_positive_rate):\n",
        "#   prob_drunk_prior = 0.001\n",
        "#   false_positive_rate = 0.08\n",
        "#   p_non_user = 1 - prob_drunk_prior\n",
        "#   P_pos_given_user = 1\n",
        "#   posterior_probability = (P_pos_given_user * prob_drunk_prior)/((P_pos_given_user*prob_drunk_prior) + (false_positive_rate * p_non_user))\n",
        "#   if posterior_probability < 0.95:\n",
        "#     posterior_probability = posterior_probability(posterior_probability)\n",
        "#   elif posterior_probability >= 0.95:\n",
        "#     return posterior_probability\n",
        "#   return posterior_probability\n",
        "# prob_drunk_given_positive(0.001, 0.08)"
      ],
      "execution_count": 0,
      "outputs": []
    },
    {
      "cell_type": "code",
      "metadata": {
        "id": "7v-jjUidXqtr",
        "colab_type": "code",
        "colab": {}
      },
      "source": [
        "while prob_drunk_given_positive <= 0.95:\n",
        "  prob_drunk_given_positive(0.001, 0.08)"
      ],
      "execution_count": 0,
      "outputs": []
    },
    {
      "cell_type": "code",
      "metadata": {
        "id": "hHwOLwbieIbw",
        "colab_type": "code",
        "outputId": "6ba6a1d0-a699-4a1c-fea6-990f757d4477",
        "colab": {
          "base_uri": "https://localhost:8080/",
          "height": 34
        }
      },
      "source": [
        "prob_drunk_prior = 1/1000\n",
        "desired_acc = 0.95\n",
        "num_tests = 0\n",
        "false_positive_rate = 0.08\n",
        "while prob_drunk_prior < desired_acc:\n",
        "  num_tests += 1\n",
        "  prob_drunk_prior = prob_drunk_given_positive(prob_drunk_prior, false_positive_rate)\n",
        "  if prob_drunk_prior >= desired_acc:\n",
        "    print('{} tests were required to achieve probability' \\\n",
        "      ' >= {}% given these parameters'.format(num_tests, desired_acc*100))"
      ],
      "execution_count": 0,
      "outputs": [
        {
          "output_type": "stream",
          "text": [
            "4 tests were required to achieve probability >= 95.0% given these parameters\n"
          ],
          "name": "stdout"
        }
      ]
    },
    {
      "cell_type": "markdown",
      "metadata": {
        "id": "P-DzzRk5bf0z",
        "colab_type": "text"
      },
      "source": [
        "## Assignment - Code it up!\n",
        "\n",
        "We used pure math to apply Bayes Theorem to drug tests. Now write Python code to reproduce the results! This is purposefully open ended - you'll have to think about how you should represent probabilities and events. You can and should look things up.\n",
        "\n",
        "Specific goals/targets:\n",
        "\n",
        "### 1) Write a function \n",
        "\n",
        "`def prob_drunk_given_positive(prob_drunk_prior, false_positive_rate):` \n",
        "\n",
        "You should only truly need these two values in order to apply Bayes Theorem. In this example, imagine that individuals are taking a breathalyzer test with an 8% false positive rate, a 100% true positive rate, and that our prior belief about drunk driving in the population is 1/1000. \n",
        " - What is the probability that a person is drunk after one positive breathalyzer test?\n",
        " - What is the probability that a person is drunk after two positive breathalyzer tests?\n",
        " - How many positive breathalyzer tests are needed in order to have a probability that's greater than 95% that a person is drunk beyond the legal limit?\n",
        "\n",
        "### 2) Explore `scipy.stats.bayes_mvs`  \n",
        "Read its documentation, and experiment with it on data you've tested in other ways earlier this week.\n",
        " - Create a visualization comparing the results of a Bayesian approach to a traditional/frequentist approach. (with a large sample size they should look close to identical, however, take this opportunity to practice visualizing condfidence intervals in general. The following are some potential ways that you could visualize confidence intervals on your graph:\n",
        "  - [Matplotlib Error Bars](https://matplotlib.org/3.1.1/api/_as_gen/matplotlib.pyplot.errorbar.html)\n",
        "  - [Seaborn barplot with error bars](https://seaborn.pydata.org/generated/seaborn.barplot.html)\n",
        "  - [Vertical ines to show bounds of confidence interval](https://www.simplypsychology.org/confidence-interval.jpg)\n",
        "  - [Confidence Intervals on Box Plots](https://matplotlib.org/3.1.1/api/_as_gen/matplotlib.axes.Axes.boxplot.html)\n",
        "\n",
        "### 3) In your own words, summarize the difference between Bayesian and Frequentist statistics\n",
        "\n",
        "If you're unsure where to start, check out [this blog post of Bayes theorem with Python](https://dataconomy.com/2015/02/introduction-to-bayes-theorem-with-python/).\n",
        "\n"
      ]
    },
    {
      "cell_type": "code",
      "metadata": {
        "id": "xpVhZyUnbf7o",
        "colab_type": "code",
        "colab": {}
      },
      "source": [
        "# Bayesian stats allow us to go from our sampling and prior distributions to our posterior distribution: the probability of our paramters given our data.\n",
        "# Whereas frequentist stats are focused on the likelihood of our sample given other (future) samples, which can translate to finding the parameters that maximize the probability of seeing our data.\n",
        "# The major difference is the frequentist null hypothesis of the data as being random, whereas Bayesian stats assign the best data they have to the null hypothesis."
      ],
      "execution_count": 0,
      "outputs": []
    },
    {
      "cell_type": "markdown",
      "metadata": {
        "id": "uWgWjp3PQ3Sq",
        "colab_type": "text"
      },
      "source": [
        "## Resources"
      ]
    },
    {
      "cell_type": "markdown",
      "metadata": {
        "id": "QRgHqmYIQ9qn",
        "colab_type": "text"
      },
      "source": [
        "- [Worked example of Bayes rule calculation](https://en.wikipedia.org/wiki/Bayes'_theorem#Examples) (helpful as it fully breaks out the denominator)\n",
        "- [Source code for mvsdist in scipy](https://github.com/scipy/scipy/blob/90534919e139d2a81c24bf08341734ff41a3db12/scipy/stats/morestats.py#L139)"
      ]
    },
    {
      "cell_type": "markdown",
      "metadata": {
        "id": "GP7Jv1XvwtkX",
        "colab_type": "text"
      },
      "source": [
        "## Stretch Goals:\n",
        "\n",
        "- Go back and study the content from Modules 1 & 2 to make sure that you're really comfortable with them.\n",
        "- Apply a Bayesian technique to a problem you previously worked (in an assignment or project work) on from a frequentist (standard) perspective\n",
        "- Check out [PyMC3](https://docs.pymc.io/) (note this goes beyond hypothesis tests into modeling) - read the guides and work through some examples\n",
        "- Take PyMC3 further - see if you can build something with it!"
      ]
    },
    {
      "cell_type": "code",
      "metadata": {
        "id": "iDi0eFr1x-v_",
        "colab_type": "code",
        "colab": {}
      },
      "source": [
        ""
      ],
      "execution_count": 0,
      "outputs": []
    }
  ]
}